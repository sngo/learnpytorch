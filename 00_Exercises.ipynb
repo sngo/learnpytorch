{
  "nbformat": 4,
  "nbformat_minor": 0,
  "metadata": {
    "colab": {
      "provenance": [],
      "authorship_tag": "ABX9TyP1D56Wk+nabSx4NhU43Otb",
      "include_colab_link": true
    },
    "kernelspec": {
      "name": "python3",
      "display_name": "Python 3"
    },
    "language_info": {
      "name": "python"
    }
  },
  "cells": [
    {
      "cell_type": "markdown",
      "metadata": {
        "id": "view-in-github",
        "colab_type": "text"
      },
      "source": [
        "<a href=\"https://colab.research.google.com/github/sngo/learnpytorch/blob/main/00_Exercises.ipynb\" target=\"_parent\"><img src=\"https://colab.research.google.com/assets/colab-badge.svg\" alt=\"Open In Colab\"/></a>"
      ]
    },
    {
      "cell_type": "code",
      "execution_count": null,
      "metadata": {
        "colab": {
          "base_uri": "https://localhost:8080/"
        },
        "id": "3DNm4Mi60a4E",
        "outputId": "db7e0f47-9302-4e17-bbcd-a2ced3f37ad5"
      },
      "outputs": [
        {
          "output_type": "execute_result",
          "data": {
            "text/plain": [
              "tensor([[0.8131, 0.3820, 0.0510, 0.0160, 0.9875, 0.3360, 0.3210],\n",
              "        [0.4310, 0.9372, 0.7293, 0.9585, 0.3628, 0.6963, 0.8345],\n",
              "        [0.7548, 0.2612, 0.5058, 0.1214, 0.9945, 0.6270, 0.5105],\n",
              "        [0.6405, 0.3229, 0.8017, 0.4314, 0.9498, 0.0125, 0.5599],\n",
              "        [0.2495, 0.9196, 0.8744, 0.1483, 0.3728, 0.3450, 0.6665],\n",
              "        [0.7354, 0.1531, 0.3226, 0.5989, 0.2555, 0.5218, 0.5652],\n",
              "        [0.0606, 0.9382, 0.4969, 0.3926, 0.0157, 0.4576, 0.1632]])"
            ]
          },
          "metadata": {},
          "execution_count": 2
        }
      ],
      "source": [
        "import torch\n",
        "\n",
        "tensor7 = torch.rand(7, 7)\n",
        "tensor7"
      ]
    },
    {
      "cell_type": "code",
      "source": [
        "tensor72 = torch.rand(1,7)\n",
        "tensor72"
      ],
      "metadata": {
        "colab": {
          "base_uri": "https://localhost:8080/"
        },
        "id": "RuGFBvAl1958",
        "outputId": "a479327b-3355-4334-f9a5-49c4a4cdffd9"
      },
      "execution_count": null,
      "outputs": [
        {
          "output_type": "execute_result",
          "data": {
            "text/plain": [
              "tensor([[0.7867, 0.8915, 0.7252, 0.6108, 0.0610, 0.7603, 0.3829]])"
            ]
          },
          "metadata": {},
          "execution_count": 3
        }
      ]
    },
    {
      "cell_type": "code",
      "source": [
        "tensor72.T"
      ],
      "metadata": {
        "colab": {
          "base_uri": "https://localhost:8080/"
        },
        "id": "5TcLhgnO2GBb",
        "outputId": "79e64084-0711-415d-b27f-777fa748222b"
      },
      "execution_count": null,
      "outputs": [
        {
          "output_type": "execute_result",
          "data": {
            "text/plain": [
              "tensor([[0.7867],\n",
              "        [0.8915],\n",
              "        [0.7252],\n",
              "        [0.6108],\n",
              "        [0.0610],\n",
              "        [0.7603],\n",
              "        [0.3829]])"
            ]
          },
          "metadata": {},
          "execution_count": 4
        }
      ]
    },
    {
      "cell_type": "code",
      "source": [
        "tensor_mul = tensor7.mul(tensor72.T)\n",
        "tensor_mul"
      ],
      "metadata": {
        "colab": {
          "base_uri": "https://localhost:8080/"
        },
        "id": "3ZrtNwnf2KM1",
        "outputId": "c09d0873-3719-47bf-a446-4e158790abfb"
      },
      "execution_count": null,
      "outputs": [
        {
          "output_type": "execute_result",
          "data": {
            "text/plain": [
              "tensor([[0.6397, 0.3005, 0.0401, 0.0126, 0.7769, 0.2643, 0.2525],\n",
              "        [0.3842, 0.8355, 0.6502, 0.8545, 0.3234, 0.6208, 0.7440],\n",
              "        [0.5474, 0.1894, 0.3669, 0.0880, 0.7213, 0.4547, 0.3702],\n",
              "        [0.3912, 0.1973, 0.4897, 0.2635, 0.5801, 0.0076, 0.3420],\n",
              "        [0.0152, 0.0561, 0.0533, 0.0090, 0.0227, 0.0210, 0.0407],\n",
              "        [0.5591, 0.1164, 0.2452, 0.4553, 0.1943, 0.3967, 0.4297],\n",
              "        [0.0232, 0.3592, 0.1903, 0.1503, 0.0060, 0.1752, 0.0625]])"
            ]
          },
          "metadata": {},
          "execution_count": 6
        }
      ]
    },
    {
      "cell_type": "code",
      "source": [
        "RANDOM_SEED=0\n",
        "torch.manual_seed(seed=RANDOM_SEED)\n",
        "tensor55 = torch.rand(5,5)\n",
        "torch.manual_seed(seed=RANDOM_SEED)\n",
        "tensor15 = torch.rand(1,5)\n",
        "tensor55, tensor15"
      ],
      "metadata": {
        "colab": {
          "base_uri": "https://localhost:8080/"
        },
        "id": "xzKwzj6x27TK",
        "outputId": "d01c2c64-a72d-436f-e9e9-9f5ff1a46ac1"
      },
      "execution_count": null,
      "outputs": [
        {
          "output_type": "execute_result",
          "data": {
            "text/plain": [
              "(tensor([[0.4963, 0.7682, 0.0885, 0.1320, 0.3074],\n",
              "         [0.6341, 0.4901, 0.8964, 0.4556, 0.6323],\n",
              "         [0.3489, 0.4017, 0.0223, 0.1689, 0.2939],\n",
              "         [0.5185, 0.6977, 0.8000, 0.1610, 0.2823],\n",
              "         [0.6816, 0.9152, 0.3971, 0.8742, 0.4194]]),\n",
              " tensor([[0.4963, 0.7682, 0.0885, 0.1320, 0.3074]]))"
            ]
          },
          "metadata": {},
          "execution_count": 7
        }
      ]
    },
    {
      "cell_type": "code",
      "source": [
        "tensor23_1 = torch.rand(2,3)\n",
        "tensor23_2 = torch.rand(2,3)\n",
        "#multensor = tensor23_1.mul(tensor23_2.T)\n",
        "tensor23_1, tensor23_2,tensor23_1.ndim, tensor23_1.shape, tensor23_2.ndim, tensor23_2.shape"
      ],
      "metadata": {
        "colab": {
          "base_uri": "https://localhost:8080/"
        },
        "id": "FfXhOryz3fVo",
        "outputId": "17835e76-068a-4f7e-c9bf-e1828d50736e"
      },
      "execution_count": null,
      "outputs": [
        {
          "output_type": "execute_result",
          "data": {
            "text/plain": [
              "(tensor([[0.3734, 0.3051, 0.9320],\n",
              "         [0.1759, 0.2698, 0.1507]]),\n",
              " tensor([[0.0317, 0.2081, 0.9298],\n",
              "         [0.7231, 0.7423, 0.5263]]),\n",
              " 2,\n",
              " torch.Size([2, 3]),\n",
              " 2,\n",
              " torch.Size([2, 3]))"
            ]
          },
          "metadata": {},
          "execution_count": 13
        }
      ]
    },
    {
      "cell_type": "code",
      "source": [
        "\n",
        "multensor = tensor23_1.mul(tensor23_2)\n",
        "tensor23_2.T, multensor"
      ],
      "metadata": {
        "colab": {
          "base_uri": "https://localhost:8080/"
        },
        "id": "HHEWgjle4Imw",
        "outputId": "b892629a-5816-4002-b604-bc929c2702f7"
      },
      "execution_count": null,
      "outputs": [
        {
          "output_type": "execute_result",
          "data": {
            "text/plain": [
              "(tensor([[0.0317, 0.7231],\n",
              "         [0.2081, 0.7423],\n",
              "         [0.9298, 0.5263]]),\n",
              " tensor([[0.0118, 0.0635, 0.8666],\n",
              "         [0.1272, 0.2003, 0.0793]]))"
            ]
          },
          "metadata": {},
          "execution_count": 14
        }
      ]
    },
    {
      "cell_type": "code",
      "source": [
        "max = multensor.max()\n",
        "min = multensor.min()\n",
        "max, min"
      ],
      "metadata": {
        "colab": {
          "base_uri": "https://localhost:8080/"
        },
        "id": "WylvwsjK5skC",
        "outputId": "e0bd968d-8a5c-41dc-8ad7-2195d8865d56"
      },
      "execution_count": null,
      "outputs": [
        {
          "output_type": "execute_result",
          "data": {
            "text/plain": [
              "(tensor(0.8666), tensor(0.0118))"
            ]
          },
          "metadata": {},
          "execution_count": 17
        }
      ]
    },
    {
      "cell_type": "code",
      "source": [
        "rtensor = torch.rand(1,1,1, 10)\n",
        "rtensor"
      ],
      "metadata": {
        "colab": {
          "base_uri": "https://localhost:8080/"
        },
        "id": "6_QXZVYH6FUc",
        "outputId": "df7fba04-efd0-448a-8e79-30a8a30cb78c"
      },
      "execution_count": null,
      "outputs": [
        {
          "output_type": "execute_result",
          "data": {
            "text/plain": [
              "tensor([[[[0.9971, 0.6984, 0.5675, 0.8352, 0.2056, 0.5932, 0.1123, 0.1535,\n",
              "           0.2417, 0.7262]]]])"
            ]
          },
          "metadata": {},
          "execution_count": 19
        }
      ]
    },
    {
      "cell_type": "code",
      "source": [
        "ones = torch.ones_like(rtensor)\n",
        "ones"
      ],
      "metadata": {
        "colab": {
          "base_uri": "https://localhost:8080/"
        },
        "id": "G7Zf0SpK6X4C",
        "outputId": "6ed17fb9-db58-40fc-f9e2-64cfeea848dc"
      },
      "execution_count": null,
      "outputs": [
        {
          "output_type": "execute_result",
          "data": {
            "text/plain": [
              "tensor([[[[1., 1., 1., 1., 1., 1., 1., 1., 1., 1.]]]])"
            ]
          },
          "metadata": {},
          "execution_count": 21
        }
      ]
    },
    {
      "cell_type": "code",
      "source": [
        "from math import sqrt\n",
        "SEED = 7\n",
        "torch.manual_seed = SEED\n",
        "squeeze = rtensor.squeeze()\n",
        "squeeze\n"
      ],
      "metadata": {
        "colab": {
          "base_uri": "https://localhost:8080/"
        },
        "id": "otu-3UwZ66St",
        "outputId": "d892761d-1933-449e-9fd7-d67b8ea40652"
      },
      "execution_count": null,
      "outputs": [
        {
          "output_type": "execute_result",
          "data": {
            "text/plain": [
              "tensor([0.9971, 0.6984, 0.5675, 0.8352, 0.2056, 0.5932, 0.1123, 0.1535, 0.2417,\n",
              "        0.7262])"
            ]
          },
          "metadata": {},
          "execution_count": 22
        }
      ]
    }
  ]
}